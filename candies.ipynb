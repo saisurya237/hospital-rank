{
 "cells": [
  {
   "cell_type": "code",
   "execution_count": 18,
   "metadata": {
    "scrolled": false
   },
   "outputs": [
    {
     "name": "stdout",
     "output_type": "stream",
     "text": [
      "7\n",
      "7\n",
      "6\n",
      "5\n",
      "4\n",
      "3\n",
      "2\n",
      "1\n",
      "28\n"
     ]
    }
   ],
   "source": [
    "INF = 10**9 # a number larger than all ratings\n",
    "n = int(input())\n",
    "a=[]\n",
    "for i in range(0,n):\n",
    "    x = input()\n",
    "    a.append(x)\n",
    "\n",
    "\n",
    "\n",
    "a = [INF] + a + [INF]\n",
    "\n",
    "candies = [0]*(n+1)\n",
    "\n",
    "for i in range(1,n+1):\n",
    "    if int(a[i-1]) >= int(a[i]) <= int(a[i+1]):\n",
    "        candies[i] = 1\n",
    "\n",
    "for i in range(1,n+1):\n",
    "    if int(a[i-1]) < int(a[i]) <= int(a[i+1]):\n",
    "        candies[i] = candies[i-1] + 1\n",
    "\n",
    "\n",
    "for i in range(n,0,-1):\n",
    "    if int(a[i-1]) >= int(a[i]) > int(a[i+1]):\n",
    "        candies[i] = candies[i+1] + 1\n",
    "\n",
    "\n",
    "for i in range(1,n+1):\n",
    "    if int(a[i-1]) < int(a[i]) > int(a[i+1]):\n",
    "        candies[i] = max(candies[i-1], candies[i+1]) + 1\n",
    "\n",
    "# print the total number of candies\n",
    "print(sum(candies))"
   ]
  },
  {
   "cell_type": "code",
   "execution_count": null,
   "metadata": {},
   "outputs": [],
   "source": []
  },
  {
   "cell_type": "code",
   "execution_count": null,
   "metadata": {},
   "outputs": [],
   "source": []
  }
 ],
 "metadata": {
  "kernelspec": {
   "display_name": "Python 3",
   "language": "python",
   "name": "python3"
  },
  "language_info": {
   "codemirror_mode": {
    "name": "ipython",
    "version": 3
   },
   "file_extension": ".py",
   "mimetype": "text/x-python",
   "name": "python",
   "nbconvert_exporter": "python",
   "pygments_lexer": "ipython3",
   "version": "3.6.4"
  }
 },
 "nbformat": 4,
 "nbformat_minor": 2
}
