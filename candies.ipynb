{
 "cells": [
  {
   "cell_type": "code",
   "execution_count": 18,
   "metadata": {
    "scrolled": false
   },
   "outputs": [
    {
     "name": "stdout",
     "output_type": "stream",
     "text": [
      "7\n",
      "7\n",
      "6\n",
      "5\n",
      "4\n",
      "3\n",
      "2\n",
      "1\n",
      "28\n"
     ]
    }
   ],
   "source": [
    "INF = 10**9 # a number larger than all ratings\n",
    "n = int(input())\n",
    "a=[]\n",
    "for i in range(0,n):\n",
    "    x = input()\n",
    "    a.append(x)\n",
    "\n",
    "\n",
    "\n",
    "a = [INF] + a + [INF]\n",
    "\n",
    "candies = [0]*(n+1)\n",
    "\n",
    "for i in range(1,n+1):\n",
    "    if int(a[i-1]) >= int(a[i]) <= int(a[i+1]):\n",
    "        candies[i] = 1\n",
    "\n",
    "for i in range(1,n+1):\n",
    "    if int(a[i-1]) < int(a[i]) <= int(a[i+1]):\n",
    "        candies[i] = candies[i-1] + 1\n",
    "\n",
    "\n",
    "for i in range(n,0,-1):\n",
    "    if int(a[i-1]) >= int(a[i]) > int(a[i+1]):\n",
    "        candies[i] = candies[i+1] + 1\n",
    "\n",
    "\n",
    "for i in range(1,n+1):\n",
    "    if int(a[i-1]) < int(a[i]) > int(a[i+1]):\n",
    "        candies[i] = max(candies[i-1], candies[i+1]) + 1\n",
    "\n",
    "# print the total number of candies\n",
    "print(sum(candies))"
   ]
  },
  {
   "cell_type": "code",
   "execution_count": 26,
   "metadata": {},
   "outputs": [
    {
     "name": "stdout",
     "output_type": "stream",
     "text": [
      "7\n",
      "7\n",
      "6\n",
      "5\n",
      "4\n",
      "3\n",
      "2\n",
      "1\n",
      "28.0\n"
     ]
    }
   ],
   "source": [
    "#inputing the no. of students\n",
    "n = int(input())\n",
    "#ranks of each student\n",
    "ranks = []\n",
    "for i in range(n):\n",
    "    ranks.append(int(input()))\n",
    "\n",
    "#dlist is a list to keep appending candies to each student.\n",
    "dlist=[]\n",
    "last_d=None\n",
    "#initial count made 0\n",
    "count=0\n",
    "\n",
    "#boolean for loop to check for the comparision of ranks between students linearely.\n",
    "for i in range(n-1):\n",
    "    if ranks[i] < ranks[i+1]:\n",
    "        cd = False\n",
    "    elif ranks[i] > ranks[i+1]:\n",
    "        cd = True\n",
    "    else:\n",
    "        cd = None\n",
    "\n",
    "    if last_d == cd:\n",
    "        count += 1\n",
    "    else:\n",
    "       #to make sure atleast 1 candy is given. \n",
    "        if count != 0:\n",
    "            dlist.append((last_d,count))\n",
    "        count = 1\n",
    "        last_d = cd\n",
    "dlist.append((last_d,count))\n",
    "\n",
    "#reinitializing last value of the list to 0 and the total value as the total no. of students.\n",
    "last_val = 0\n",
    "total = n\n",
    "\n",
    "#loop to compare the count values and compare with last value which will return a boolean value in d. \n",
    "for d, count in dlist:\n",
    "    if d == True:\n",
    "        total -= min(last_val, count)\n",
    "        last_val = 0\n",
    "    elif d == False:\n",
    "        last_val = count\n",
    "    else:\n",
    "        last_val = 0\n",
    "        continue\n",
    "    #total candies updated after each iteration.\n",
    "    total += (count*(count+1))/2\n",
    "\n",
    "print (total)"
   ]
  },
  {
   "cell_type": "markdown",
   "metadata": {},
   "source": []
  }
 ],
 "metadata": {
  "kernelspec": {
   "display_name": "Python 3",
   "language": "python",
   "name": "python3"
  },
  "language_info": {
   "codemirror_mode": {
    "name": "ipython",
    "version": 3
   },
   "file_extension": ".py",
   "mimetype": "text/x-python",
   "name": "python",
   "nbconvert_exporter": "python",
   "pygments_lexer": "ipython3",
   "version": "3.6.4"
  }
 },
 "nbformat": 4,
 "nbformat_minor": 2
}
